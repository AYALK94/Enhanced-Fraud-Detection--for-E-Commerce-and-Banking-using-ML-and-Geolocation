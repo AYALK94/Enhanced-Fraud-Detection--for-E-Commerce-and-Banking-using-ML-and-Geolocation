{
 "cells": [
  {
   "cell_type": "markdown",
   "id": "f5e49462",
   "metadata": {
    "papermill": {
     "duration": 0.014322,
     "end_time": "2021-07-15T10:23:30.833271",
     "exception": false,
     "start_time": "2021-07-15T10:23:30.818949",
     "status": "completed"
    },
    "tags": []
   },
   "source": [
    "# Evaluate Fraud Data Detection\n",
    "\n",
    "In this assignment you will train several models and evaluate how effectively they predict instances of fraud using data based on [this dataset from Kaggle](https://www.kaggle.com/dalpozz/creditcardfraud).\n",
    " \n",
    "Each row in `fraud_data.csv` corresponds to a credit card transaction. Features include confidential variables `V1` through `V28` as well as `Amount` which is the amount of the transaction. \n",
    " \n",
    "The target is stored in the `class` column, where a value of 1 corresponds to an instance of fraud and 0 corresponds to an instance of not fraud."
   ]
  },
  {
   "cell_type": "code",
   "execution_count": 1,
   "id": "13a5648e",
   "metadata": {
    "execution": {
     "iopub.execute_input": "2021-07-15T10:23:30.864793Z",
     "iopub.status.busy": "2021-07-15T10:23:30.863329Z",
     "iopub.status.idle": "2021-07-15T10:23:30.873491Z",
     "shell.execute_reply": "2021-07-15T10:23:30.872786Z",
     "shell.execute_reply.started": "2021-07-15T10:22:15.100431Z"
    },
    "papermill": {
     "duration": 0.026654,
     "end_time": "2021-07-15T10:23:30.873667",
     "exception": false,
     "start_time": "2021-07-15T10:23:30.847013",
     "status": "completed"
    },
    "tags": []
   },
   "outputs": [],
   "source": [
    "import numpy as np\n",
    "import pandas as pd"
   ]
  },
  {
   "cell_type": "markdown",
   "id": "c7a6c5ed",
   "metadata": {
    "papermill": {
     "duration": 0.013005,
     "end_time": "2021-07-15T10:23:30.900114",
     "exception": false,
     "start_time": "2021-07-15T10:23:30.887109",
     "status": "completed"
    },
    "tags": []
   },
   "source": [
    "### What percentage of the observations in the dataset are instances of fraud?"
   ]
  },
  {
   "cell_type": "code",
   "execution_count": 2,
   "id": "390f6b80",
   "metadata": {
    "execution": {
     "iopub.execute_input": "2021-07-15T10:23:30.932660Z",
     "iopub.status.busy": "2021-07-15T10:23:30.931999Z",
     "iopub.status.idle": "2021-07-15T10:23:31.399342Z",
     "shell.execute_reply": "2021-07-15T10:23:31.398482Z",
     "shell.execute_reply.started": "2021-07-15T09:53:00.828312Z"
    },
    "papermill": {
     "duration": 0.486111,
     "end_time": "2021-07-15T10:23:31.399496",
     "exception": false,
     "start_time": "2021-07-15T10:23:30.913385",
     "status": "completed"
    },
    "tags": []
   },
   "outputs": [
    {
     "name": "stdout",
     "output_type": "stream",
     "text": [
      "Approximately 2.0 % of the observations in dataset are fraud.\n"
     ]
    }
   ],
   "source": [
    "def answer_one():\n",
    "    fraud=pd.read_csv('../input/fraud-data/fraud_data.csv')\n",
    "    fraud_instances=fraud[fraud['Class']==1]\n",
    "    return len(fraud_instances)/len(fraud)\n",
    "print('Approximately ' + str (100*round(answer_one(),2))+' % of the observations in dataset are fraud.')"
   ]
  },
  {
   "cell_type": "markdown",
   "id": "a865a395",
   "metadata": {
    "papermill": {
     "duration": 0.01396,
     "end_time": "2021-07-15T10:23:31.427341",
     "exception": false,
     "start_time": "2021-07-15T10:23:31.413381",
     "status": "completed"
    },
    "tags": []
   },
   "source": [
    "### Spit data into train and test dataset"
   ]
  },
  {
   "cell_type": "code",
   "execution_count": 3,
   "id": "557bddd7",
   "metadata": {
    "execution": {
     "iopub.execute_input": "2021-07-15T10:23:31.469500Z",
     "iopub.status.busy": "2021-07-15T10:23:31.468628Z",
     "iopub.status.idle": "2021-07-15T10:23:32.575743Z",
     "shell.execute_reply": "2021-07-15T10:23:32.576193Z",
     "shell.execute_reply.started": "2021-07-15T10:22:18.872144Z"
    },
    "papermill": {
     "duration": 1.131854,
     "end_time": "2021-07-15T10:23:32.576383",
     "exception": false,
     "start_time": "2021-07-15T10:23:31.444529",
     "status": "completed"
    },
    "tags": []
   },
   "outputs": [],
   "source": [
    "# Use X_train, X_test, y_train, y_test for all of the following questions\n",
    "from sklearn.model_selection import train_test_split\n",
    "\n",
    "df = pd.read_csv('../input/fraud-data/fraud_data.csv')\n",
    "\n",
    "X = df.iloc[:,:-1]\n",
    "y = df.iloc[:,-1]\n",
    "\n",
    "X_train, X_test, y_train, y_test = train_test_split(X, y, random_state=0)"
   ]
  },
  {
   "cell_type": "markdown",
   "id": "22433024",
   "metadata": {
    "papermill": {
     "duration": 0.013147,
     "end_time": "2021-07-15T10:23:32.603469",
     "exception": false,
     "start_time": "2021-07-15T10:23:32.590322",
     "status": "completed"
    },
    "tags": []
   },
   "source": [
    "### Training a dummy classifier that classifies everything as the majority class of the training data. What is the accuracy of this classifier? What is the recall?\n"
   ]
  },
  {
   "cell_type": "code",
   "execution_count": 4,
   "id": "07527b0d",
   "metadata": {
    "execution": {
     "iopub.execute_input": "2021-07-15T10:23:32.637041Z",
     "iopub.status.busy": "2021-07-15T10:23:32.636047Z",
     "iopub.status.idle": "2021-07-15T10:23:32.648887Z",
     "shell.execute_reply": "2021-07-15T10:23:32.647859Z",
     "shell.execute_reply.started": "2021-07-15T09:56:26.421837Z"
    },
    "papermill": {
     "duration": 0.032088,
     "end_time": "2021-07-15T10:23:32.649147",
     "exception": false,
     "start_time": "2021-07-15T10:23:32.617059",
     "status": "completed"
    },
    "tags": []
   },
   "outputs": [
    {
     "name": "stdout",
     "output_type": "stream",
     "text": [
      "Accuracy Score:  0.9852507374631269 \n",
      "Recall Score:  0.0\n"
     ]
    }
   ],
   "source": [
    "def answer_two():\n",
    "    from sklearn.dummy import DummyClassifier\n",
    "    from sklearn.metrics import recall_score,accuracy_score,recall_score\n",
    "    dummy_clf=DummyClassifier(strategy='most_frequent').fit(X_train,y_train)\n",
    "    y_predicted=dummy_clf.predict(X_test)\n",
    "    \n",
    "    return print('Accuracy Score: ',accuracy_score(y_test,y_predicted), '\\nRecall Score: ',recall_score(y_test,y_predicted))\n",
    "answer_two()"
   ]
  },
  {
   "cell_type": "markdown",
   "id": "8c01cf86",
   "metadata": {
    "papermill": {
     "duration": 0.013636,
     "end_time": "2021-07-15T10:23:32.677949",
     "exception": false,
     "start_time": "2021-07-15T10:23:32.664313",
     "status": "completed"
    },
    "tags": []
   },
   "source": [
    "### Training a SVC classifer using the default parameters. What is the accuracy, recall, and precision of this classifier?"
   ]
  },
  {
   "cell_type": "code",
   "execution_count": 5,
   "id": "93d72947",
   "metadata": {
    "execution": {
     "iopub.execute_input": "2021-07-15T10:23:32.709133Z",
     "iopub.status.busy": "2021-07-15T10:23:32.708456Z",
     "iopub.status.idle": "2021-07-15T10:23:33.949423Z",
     "shell.execute_reply": "2021-07-15T10:23:33.948822Z",
     "shell.execute_reply.started": "2021-07-15T09:56:14.673634Z"
    },
    "papermill": {
     "duration": 1.257645,
     "end_time": "2021-07-15T10:23:33.949570",
     "exception": false,
     "start_time": "2021-07-15T10:23:32.691925",
     "status": "completed"
    },
    "tags": []
   },
   "outputs": [
    {
     "name": "stdout",
     "output_type": "stream",
     "text": [
      "Accuracy Score:  0.9900442477876106 \n",
      "Recall Score:  0.35 \n",
      "Precision Score:  0.9333333333333333\n"
     ]
    }
   ],
   "source": [
    "def answer_three():\n",
    "    from sklearn.metrics import recall_score, precision_score\n",
    "    from sklearn.svm import SVC\n",
    "    svc_clf=SVC().fit(X_train,y_train)\n",
    "    y_pred_svc=svc_clf.predict(X_test)\n",
    "    \n",
    "    return print('Accuracy Score: ',svc_clf.score(X_test,y_test),'\\nRecall Score: ',recall_score(y_test,y_pred_svc),'\\nPrecision Score: ',precision_score(y_test,y_pred_svc))\n",
    "answer_three()"
   ]
  },
  {
   "cell_type": "markdown",
   "id": "44fe864c",
   "metadata": {
    "papermill": {
     "duration": 0.020568,
     "end_time": "2021-07-15T10:23:33.985223",
     "exception": false,
     "start_time": "2021-07-15T10:23:33.964655",
     "status": "completed"
    },
    "tags": []
   },
   "source": [
    "### Using the SVC classifier with parameters `{'C': 1e9, 'gamma': 1e-07}`, what is the confusion matrix when using a threshold of -220 on the decision function. Use X_test and y_test."
   ]
  },
  {
   "cell_type": "code",
   "execution_count": 6,
   "id": "b63b8963",
   "metadata": {
    "execution": {
     "iopub.execute_input": "2021-07-15T10:23:34.028195Z",
     "iopub.status.busy": "2021-07-15T10:23:34.027378Z",
     "iopub.status.idle": "2021-07-15T10:23:46.827694Z",
     "shell.execute_reply": "2021-07-15T10:23:46.827100Z",
     "shell.execute_reply.started": "2021-07-15T09:56:39.255496Z"
    },
    "papermill": {
     "duration": 12.824984,
     "end_time": "2021-07-15T10:23:46.827835",
     "exception": false,
     "start_time": "2021-07-15T10:23:34.002851",
     "status": "completed"
    },
    "tags": []
   },
   "outputs": [
    {
     "data": {
      "text/plain": [
       "array([[5320,   24],\n",
       "       [  14,   66]])"
      ]
     },
     "execution_count": 6,
     "metadata": {},
     "output_type": "execute_result"
    }
   ],
   "source": [
    "def answer_four():\n",
    "    from sklearn.metrics import confusion_matrix\n",
    "    from sklearn.svm import SVC\n",
    "    svc_clf=SVC(C= 1e9, gamma= 1e-07).fit(X_train,y_train)\n",
    "    decision=svc_clf.decision_function(X_test)\n",
    "    y_pred_thrh=np.where(decision>-220,1,0)\n",
    "    confusion=confusion_matrix(y_test,y_pred_thrh)\n",
    "    return confusion\n",
    "answer_four()"
   ]
  },
  {
   "cell_type": "markdown",
   "id": "57356ca6",
   "metadata": {
    "papermill": {
     "duration": 0.014825,
     "end_time": "2021-07-15T10:23:46.857857",
     "exception": false,
     "start_time": "2021-07-15T10:23:46.843032",
     "status": "completed"
    },
    "tags": []
   },
   "source": [
    "### Train a logisitic regression classifier.\n",
    "\n",
    "For the logisitic regression classifier, create a precision recall curve and a roc curve using y_test and the probability estimates for X_test (probability it is fraud).\n",
    "\n",
    "Looking at the precision recall curve, what is the recall when the precision is `0.75`?\n",
    "\n",
    "Looking at the roc curve, what is the true positive rate when the false positive rate is `0.16`?"
   ]
  },
  {
   "cell_type": "code",
   "execution_count": 7,
   "id": "c8fb71dc",
   "metadata": {
    "execution": {
     "iopub.execute_input": "2021-07-15T10:23:46.896643Z",
     "iopub.status.busy": "2021-07-15T10:23:46.895898Z",
     "iopub.status.idle": "2021-07-15T10:23:46.899043Z",
     "shell.execute_reply": "2021-07-15T10:23:46.898534Z",
     "shell.execute_reply.started": "2021-07-15T10:22:54.270566Z"
    },
    "papermill": {
     "duration": 0.026085,
     "end_time": "2021-07-15T10:23:46.899207",
     "exception": false,
     "start_time": "2021-07-15T10:23:46.873122",
     "status": "completed"
    },
    "tags": []
   },
   "outputs": [],
   "source": [
    "def answer_five():\n",
    "    from sklearn.linear_model import LogisticRegression\n",
    "    from sklearn.metrics import precision_recall_curve,roc_curve\n",
    "    from sklearn.svm import SVC\n",
    "    import matplotlib.pyplot  as plt\n",
    "    log_reg=LogisticRegression().fit(X_train,y_train)\n",
    "    y_prob=log_reg.predict_proba(X_test)\n",
    "    precision,recall,thresholds=precision_recall_curve(y_test,y_prob[:,1])\n",
    "    plt.figure()\n",
    "    plt.plot(precision,recall,label='PRC')\n",
    "    plt.xlabel('precision')\n",
    "    plt.ylabel('recall')\n",
    "    fpr, tpr,mm=roc_curve(y_test,y_prob[:,1])\n",
    "    plt.figure()\n",
    "    plt.plot(fpr,tpr,label='ROC curve')\n",
    "    plt.xlabel('false positive rate')\n",
    "    plt.ylabel('true positiv rate')\n",
    "    plt.show()\n",
    "    \n",
    "    return  (0.8,0.9)\n",
    "#answer_five()"
   ]
  },
  {
   "cell_type": "markdown",
   "id": "bda7d336",
   "metadata": {
    "papermill": {
     "duration": 0.014432,
     "end_time": "2021-07-15T10:23:46.928443",
     "exception": false,
     "start_time": "2021-07-15T10:23:46.914011",
     "status": "completed"
    },
    "tags": []
   },
   "source": [
    "### Performing a grid search over the parameters listed below for a Logisitic Regression classifier, using recall for scoring and the default 3-fold cross validation.\n",
    "\n",
    "`'penalty': ['l1', 'l2']`\n",
    "\n",
    "`'C':[0.01, 0.1, 1, 10, 100]`\n",
    "\n",
    "From `.cv_results_`, create an array of the mean test scores of each parameter combination. i.e.\n",
    "\n",
    "|      \t| `l1` \t| `l2` \t|\n",
    "|:----:\t|----\t|----\t|\n",
    "| **`0.01`** \t|    ?\t|   ? \t|\n",
    "| **`0.1`**  \t|    ?\t|   ? \t|\n",
    "| **`1`**    \t|    ?\t|   ? \t|\n",
    "| **`10`**   \t|    ?\t|   ? \t|\n",
    "| **`100`**   \t|    ?\t|   ? \t|\n",
    "\n",
    "<br>"
   ]
  },
  {
   "cell_type": "code",
   "execution_count": 8,
   "id": "96af1f56",
   "metadata": {
    "execution": {
     "iopub.execute_input": "2021-07-15T10:23:46.965306Z",
     "iopub.status.busy": "2021-07-15T10:23:46.964640Z",
     "iopub.status.idle": "2021-07-15T10:23:46.967802Z",
     "shell.execute_reply": "2021-07-15T10:23:46.967189Z",
     "shell.execute_reply.started": "2021-07-15T10:12:57.511994Z"
    },
    "papermill": {
     "duration": 0.024494,
     "end_time": "2021-07-15T10:23:46.967936",
     "exception": false,
     "start_time": "2021-07-15T10:23:46.943442",
     "status": "completed"
    },
    "tags": []
   },
   "outputs": [],
   "source": [
    "def answer_six():    \n",
    "    import warnings\n",
    "    #from astropy.io import fits\n",
    "    warnings.filterwarnings('ignore', category=UserWarning, append=False)\n",
    "    from sklearn.model_selection import GridSearchCV\n",
    "    from sklearn.linear_model import LogisticRegression\n",
    "    log_reg=LogisticRegression()\n",
    "    param_grid={'penalty': ['l1', 'l2'],'C':[0.01, 0.1, 1, 10, 100]}\n",
    "    log_grid=GridSearchCV(log_reg,param_grid=param_grid,cv=3, scoring='recall')\n",
    "    log_reg_fit=log_grid.fit(X_train,y_train)\n",
    "    \n",
    "    return log_grid.cv_results_['mean_test_score'].reshape(5,2)\n",
    "#answer_six()"
   ]
  },
  {
   "cell_type": "markdown",
   "id": "a1042a95",
   "metadata": {
    "papermill": {
     "duration": 0.015375,
     "end_time": "2021-07-15T10:23:46.998505",
     "exception": false,
     "start_time": "2021-07-15T10:23:46.983130",
     "status": "completed"
    },
    "tags": []
   },
   "source": [
    "### Visualization of grid search on heatmap"
   ]
  },
  {
   "cell_type": "code",
   "execution_count": 9,
   "id": "e97a2749",
   "metadata": {
    "execution": {
     "iopub.execute_input": "2021-07-15T10:23:47.036173Z",
     "iopub.status.busy": "2021-07-15T10:23:47.035447Z",
     "iopub.status.idle": "2021-07-15T10:23:47.038409Z",
     "shell.execute_reply": "2021-07-15T10:23:47.037875Z",
     "shell.execute_reply.started": "2021-07-15T10:13:53.075067Z"
    },
    "papermill": {
     "duration": 0.024748,
     "end_time": "2021-07-15T10:23:47.038547",
     "exception": false,
     "start_time": "2021-07-15T10:23:47.013799",
     "status": "completed"
    },
    "tags": []
   },
   "outputs": [],
   "source": [
    "\n",
    "def GridSearch_Heatmap(scores):\n",
    "    %matplotlib notebook\n",
    "    import seaborn as sns\n",
    "    import matplotlib.pyplot as plt\n",
    "    plt.figure()\n",
    "    sns.heatmap(scores.reshape(5,2), xticklabels=['l1','l2'], yticklabels=[0.01, 0.1, 1, 10, 100])\n",
    "    plt.yticks(rotation=0);\n",
    "\n",
    "#GridSearch_Heatmap(answer_six())"
   ]
  },
  {
   "cell_type": "code",
   "execution_count": null,
   "id": "c58a5ec5",
   "metadata": {
    "papermill": {
     "duration": 0.01449,
     "end_time": "2021-07-15T10:23:47.067465",
     "exception": false,
     "start_time": "2021-07-15T10:23:47.052975",
     "status": "completed"
    },
    "tags": []
   },
   "outputs": [],
   "source": []
  }
 ],
 "metadata": {
  "kernelspec": {
   "display_name": "Python 3",
   "language": "python",
   "name": "python3"
  },
  "language_info": {
   "codemirror_mode": {
    "name": "ipython",
    "version": 3
   },
   "file_extension": ".py",
   "mimetype": "text/x-python",
   "name": "python",
   "nbconvert_exporter": "python",
   "pygments_lexer": "ipython3",
   "version": "3.7.10"
  },
  "papermill": {
   "default_parameters": {},
   "duration": 25.817145,
   "end_time": "2021-07-15T10:23:48.479494",
   "environment_variables": {},
   "exception": null,
   "input_path": "__notebook__.ipynb",
   "output_path": "__notebook__.ipynb",
   "parameters": {},
   "start_time": "2021-07-15T10:23:22.662349",
   "version": "2.3.3"
  }
 },
 "nbformat": 4,
 "nbformat_minor": 5
}
