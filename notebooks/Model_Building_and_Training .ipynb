{
 "cells": [
  {
   "cell_type": "code",
   "execution_count": 1,
   "metadata": {},
   "outputs": [],
   "source": [
    "# Import required libraries\n",
    "import pandas as pd\n",
    "import numpy as np\n",
    "from sklearn.model_selection import train_test_split\n",
    "from sklearn.linear_model import LogisticRegression\n",
    "from sklearn.tree import DecisionTreeClassifier\n",
    "from sklearn.ensemble import RandomForestClassifier, GradientBoostingClassifier\n",
    "from sklearn.neural_network import MLPClassifier\n",
    "from sklearn.metrics import classification_report, accuracy_score\n",
    "import mlflow\n",
    "import mlflow.sklearn"
   ]
  },
  {
   "cell_type": "code",
   "execution_count": 2,
   "metadata": {},
   "outputs": [],
   "source": [
    "# Load datasets\n",
    "fraud_data = pd.read_csv('/home/ayalk94/Documents/GitHub/Enhanced-Fraud-Detection--for-E-Commerce-and-Banking-using-ML-and-Geolocation/data/Data/Fraud_Data.csv')\n",
    "creditcard_data = pd.read_csv('/home/ayalk94/Documents/GitHub/Enhanced-Fraud-Detection--for-E-Commerce-and-Banking-using-ML-and-Geolocation/data/Data/creditcard.csv')"
   ]
  },
  {
   "cell_type": "markdown",
   "metadata": {},
   "source": [
    "### 1. Data Preparation"
   ]
  },
  {
   "cell_type": "code",
   "execution_count": 3,
   "metadata": {},
   "outputs": [],
   "source": [
    "# Feature and target separation for fraud data\n",
    "X_fraud = fraud_data.drop(columns=['class'])\n",
    "y_fraud = fraud_data['class']"
   ]
  },
  {
   "cell_type": "code",
   "execution_count": 4,
   "metadata": {},
   "outputs": [],
   "source": [
    "# Feature and target separation for credit card data\n",
    "X_creditcard = creditcard_data.drop(columns=['Class'])\n",
    "y_creditcard = creditcard_data['Class']\n",
    "\n",
    "# Train-test split for both datasets (80% train, 20% test)\n",
    "X_fraud_train, X_fraud_test, y_fraud_train, y_fraud_test = train_test_split(X_fraud, y_fraud, test_size=0.2, random_state=42)\n",
    "X_creditcard_train, X_creditcard_test, y_creditcard_train, y_creditcard_test = train_test_split(X_creditcard, y_creditcard, test_size=0.2, random_state=42)"
   ]
  },
  {
   "cell_type": "code",
   "execution_count": null,
   "metadata": {},
   "outputs": [],
   "source": []
  },
  {
   "cell_type": "markdown",
   "metadata": {},
   "source": [
    "### 2. Model Selection and Training"
   ]
  },
  {
   "cell_type": "code",
   "execution_count": null,
   "metadata": {},
   "outputs": [],
   "source": []
  },
  {
   "cell_type": "code",
   "execution_count": 11,
   "metadata": {},
   "outputs": [
    {
     "name": "stdout",
     "output_type": "stream",
     "text": [
      "user_id                 int64\n",
      "purchase_value          int64\n",
      "device_id              object\n",
      "age                     int64\n",
      "ip_address            float64\n",
      "class                   int64\n",
      "signup_hour             int32\n",
      "purchase_hour           int32\n",
      "purchase_dayofweek      int32\n",
      "source_Direct            bool\n",
      "source_SEO               bool\n",
      "browser_FireFox          bool\n",
      "browser_IE               bool\n",
      "browser_Opera            bool\n",
      "browser_Safari           bool\n",
      "sex_M                    bool\n",
      "dtype: object\n",
      "Fraud Data Model Performance\n",
      "Model: LogisticRegression\n",
      "Accuracy: 0.9057\n",
      "              precision    recall  f1-score   support\n",
      "\n",
      "           0       0.91      1.00      0.95     27373\n",
      "           1       0.00      0.00      0.00      2850\n",
      "\n",
      "    accuracy                           0.91     30223\n",
      "   macro avg       0.45      0.50      0.48     30223\n",
      "weighted avg       0.82      0.91      0.86     30223\n",
      "\n"
     ]
    },
    {
     "name": "stderr",
     "output_type": "stream",
     "text": [
      "/home/ayalk94/Documents/GitHub/Enhanced-Fraud-Detection--for-E-Commerce-and-Banking-using-ML-and-Geolocation/myenv/lib/python3.11/site-packages/sklearn/metrics/_classification.py:1531: UndefinedMetricWarning: Precision is ill-defined and being set to 0.0 in labels with no predicted samples. Use `zero_division` parameter to control this behavior.\n",
      "  _warn_prf(average, modifier, f\"{metric.capitalize()} is\", len(result))\n",
      "/home/ayalk94/Documents/GitHub/Enhanced-Fraud-Detection--for-E-Commerce-and-Banking-using-ML-and-Geolocation/myenv/lib/python3.11/site-packages/sklearn/metrics/_classification.py:1531: UndefinedMetricWarning: Precision is ill-defined and being set to 0.0 in labels with no predicted samples. Use `zero_division` parameter to control this behavior.\n",
      "  _warn_prf(average, modifier, f\"{metric.capitalize()} is\", len(result))\n",
      "/home/ayalk94/Documents/GitHub/Enhanced-Fraud-Detection--for-E-Commerce-and-Banking-using-ML-and-Geolocation/myenv/lib/python3.11/site-packages/sklearn/metrics/_classification.py:1531: UndefinedMetricWarning: Precision is ill-defined and being set to 0.0 in labels with no predicted samples. Use `zero_division` parameter to control this behavior.\n",
      "  _warn_prf(average, modifier, f\"{metric.capitalize()} is\", len(result))\n"
     ]
    },
    {
     "name": "stdout",
     "output_type": "stream",
     "text": [
      "Model: DecisionTreeClassifier\n",
      "Accuracy: 0.8970\n",
      "              precision    recall  f1-score   support\n",
      "\n",
      "           0       0.95      0.93      0.94     27373\n",
      "           1       0.46      0.56      0.51      2850\n",
      "\n",
      "    accuracy                           0.90     30223\n",
      "   macro avg       0.71      0.75      0.73     30223\n",
      "weighted avg       0.91      0.90      0.90     30223\n",
      "\n",
      "Model: RandomForestClassifier\n",
      "Accuracy: 0.9558\n",
      "              precision    recall  f1-score   support\n",
      "\n",
      "           0       0.95      1.00      0.98     27373\n",
      "           1       0.99      0.53      0.70      2850\n",
      "\n",
      "    accuracy                           0.96     30223\n",
      "   macro avg       0.97      0.77      0.84     30223\n",
      "weighted avg       0.96      0.96      0.95     30223\n",
      "\n",
      "Model: GradientBoostingClassifier\n",
      "Accuracy: 0.9060\n",
      "              precision    recall  f1-score   support\n",
      "\n",
      "           0       0.91      1.00      0.95     27373\n",
      "           1       0.83      0.00      0.01      2850\n",
      "\n",
      "    accuracy                           0.91     30223\n",
      "   macro avg       0.87      0.50      0.48     30223\n",
      "weighted avg       0.90      0.91      0.86     30223\n",
      "\n",
      "Model: MLPClassifier\n",
      "Accuracy: 0.9041\n",
      "              precision    recall  f1-score   support\n",
      "\n",
      "           0       0.91      1.00      0.95     27373\n",
      "           1       0.16      0.00      0.01      2850\n",
      "\n",
      "    accuracy                           0.90     30223\n",
      "   macro avg       0.54      0.50      0.48     30223\n",
      "weighted avg       0.84      0.90      0.86     30223\n",
      "\n"
     ]
    }
   ],
   "source": [
    "\n",
    "\n",
    "# Check for non-numeric columns in the dataset\n",
    "print(fraud_data.dtypes)\n",
    "\n",
    "# Use Label Encoding for 'device_id' to reduce memory usage\n",
    "label_encoder = LabelEncoder()\n",
    "fraud_data['device_id'] = label_encoder.fit_transform(fraud_data['device_id'])\n",
    "\n",
    "# Check if other categorical columns need encoding\n",
    "# (already done for 'source', 'browser', and 'sex' in previous steps)\n",
    "\n",
    "# Recreate the training/test splits after transformation\n",
    "X_fraud = fraud_data.drop(columns=['class'])  # Exclude target\n",
    "y_fraud = fraud_data['class']\n",
    "\n",
    "# Train-test split for fraud_data (80% train, 20% test)\n",
    "X_fraud_train, X_fraud_test, y_fraud_train, y_fraud_test = train_test_split(X_fraud, y_fraud, test_size=0.2, random_state=42)\n",
    "\n",
    "# Define a function to train and evaluate models\n",
    "def train_evaluate_model(model, X_train, X_test, y_train, y_test):\n",
    "    # Train the model\n",
    "    model.fit(X_train, y_train)\n",
    "    \n",
    "    # Predict on test data\n",
    "    y_pred = model.predict(X_test)\n",
    "    \n",
    "    # Evaluate performance\n",
    "    print(f\"Model: {model.__class__.__name__}\")\n",
    "    print(f\"Accuracy: {accuracy_score(y_test, y_pred):.4f}\")\n",
    "    print(classification_report(y_test, y_pred))\n",
    "\n",
    "# Define models to compare\n",
    "models = [\n",
    "    LogisticRegression(max_iter=1000),\n",
    "    DecisionTreeClassifier(),\n",
    "    RandomForestClassifier(),\n",
    "    GradientBoostingClassifier(),\n",
    "    MLPClassifier(max_iter=1000)\n",
    "]\n",
    "\n",
    "# Train and evaluate models on fraud_data\n",
    "print(\"Fraud Data Model Performance\")\n",
    "for model in models:\n",
    "    train_evaluate_model(model, X_fraud_train, X_fraud_test, y_fraud_train, y_fraud_test)\n"
   ]
  },
  {
   "cell_type": "code",
   "execution_count": null,
   "metadata": {},
   "outputs": [],
   "source": []
  }
 ],
 "metadata": {
  "kernelspec": {
   "display_name": "myenv",
   "language": "python",
   "name": "python3"
  },
  "language_info": {
   "codemirror_mode": {
    "name": "ipython",
    "version": 3
   },
   "file_extension": ".py",
   "mimetype": "text/x-python",
   "name": "python",
   "nbconvert_exporter": "python",
   "pygments_lexer": "ipython3",
   "version": "3.11.3"
  }
 },
 "nbformat": 4,
 "nbformat_minor": 2
}
